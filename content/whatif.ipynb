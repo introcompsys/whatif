{
 "cells": [
  {
   "cell_type": "markdown",
   "id": "d1b24091",
   "metadata": {},
   "source": [
    "# What if\n",
    "\n",
    "this quick calculator will check scenarios of learning badges, it does not apply community badges.\n",
    "\n",
    "This is running jupyter (and therefore a python interpretter) in your browser, using your browser like a virtual machine.  Edits to this are not sent to any server and will not impact others. This is hosted as a static site with GitHub pages"
   ]
  },
  {
   "cell_type": "code",
   "execution_count": 25,
   "id": "61625804",
   "metadata": {},
   "outputs": [],
   "source": [
    "import pandas as pd\n",
    "weights_df = pd.read_csv('weights.csv',index_col=0)\n",
    "letter_df = pd.read_csv('letter_thresholds.csv')"
   ]
  },
  {
   "cell_type": "markdown",
   "id": "a9ff66f6",
   "metadata": {},
   "source": [
    "Edit the counts in the next cell to represent the scenario you want then run\n"
   ]
  },
  {
   "cell_type": "code",
   "execution_count": 26,
   "id": "35fb53f6",
   "metadata": {},
   "outputs": [
    {
     "data": {
      "text/html": [
       "<div>\n",
       "<style scoped>\n",
       "    .dataframe tbody tr th:only-of-type {\n",
       "        vertical-align: middle;\n",
       "    }\n",
       "\n",
       "    .dataframe tbody tr th {\n",
       "        vertical-align: top;\n",
       "    }\n",
       "\n",
       "    .dataframe thead th {\n",
       "        text-align: right;\n",
       "    }\n",
       "</style>\n",
       "<table border=\"1\" class=\"dataframe\">\n",
       "  <thead>\n",
       "    <tr style=\"text-align: right;\">\n",
       "      <th></th>\n",
       "      <th>type</th>\n",
       "      <th>count</th>\n",
       "    </tr>\n",
       "  </thead>\n",
       "  <tbody>\n",
       "    <tr>\n",
       "      <th>0</th>\n",
       "      <td>experience</td>\n",
       "      <td>24</td>\n",
       "    </tr>\n",
       "    <tr>\n",
       "      <th>1</th>\n",
       "      <td>review</td>\n",
       "      <td>0</td>\n",
       "    </tr>\n",
       "    <tr>\n",
       "      <th>2</th>\n",
       "      <td>practice</td>\n",
       "      <td>23</td>\n",
       "    </tr>\n",
       "    <tr>\n",
       "      <th>3</th>\n",
       "      <td>explore</td>\n",
       "      <td>2</td>\n",
       "    </tr>\n",
       "    <tr>\n",
       "      <th>4</th>\n",
       "      <td>build</td>\n",
       "      <td>0</td>\n",
       "    </tr>\n",
       "  </tbody>\n",
       "</table>\n",
       "</div>"
      ],
      "text/plain": [
       "         type  count\n",
       "0  experience     24\n",
       "1      review      0\n",
       "2    practice     23\n",
       "3     explore      2\n",
       "4       build      0"
      ]
     },
     "execution_count": 26,
     "metadata": {},
     "output_type": "execute_result"
    }
   ],
   "source": [
    "badge_counts = [['experience' , 24,],\n",
    "['review' ,0,],\n",
    "['practice' , 23,],\n",
    "['explore' , 2,],\n",
    "['build' , 0]]\n",
    "total_counts = pd.DataFrame(data=badge_counts,columns=['type','count'])\n",
    "total_counts"
   ]
  },
  {
   "cell_type": "markdown",
   "id": "d6b20cfa",
   "metadata": {},
   "source": [
    "If that scenario printed out is what you want, run the next cell to see the letter grade"
   ]
  },
  {
   "cell_type": "code",
   "execution_count": 27,
   "id": "6a271d54",
   "metadata": {},
   "outputs": [
    {
     "data": {
      "text/plain": [
       "'A-'"
      ]
     },
     "execution_count": 27,
     "metadata": {},
     "output_type": "execute_result"
    }
   ],
   "source": [
    "\n",
    "grade_df = pd.merge(total_counts,weights_df[['badge','influence']],left_on='type',right_on='badge')\n",
    "grade_df['total_influence'] = grade_df['count']*grade_df['influence']\n",
    "\n",
    "letter = letter_df[letter_df['threshold']<grade_df['total_influence'].sum()].set_index('letter').idxmax().values[0]\n",
    "letter"
   ]
  },
  {
   "cell_type": "code",
   "execution_count": null,
   "id": "2d01794d",
   "metadata": {},
   "outputs": [],
   "source": []
  }
 ],
 "metadata": {
  "kernelspec": {
   "display_name": "Python 3",
   "language": "python",
   "name": "python3"
  },
  "language_info": {
   "codemirror_mode": {
    "name": "ipython",
    "version": 3
   },
   "file_extension": ".py",
   "mimetype": "text/x-python",
   "name": "python",
   "nbconvert_exporter": "python",
   "pygments_lexer": "ipython3",
   "version": "3.8.6"
  }
 },
 "nbformat": 4,
 "nbformat_minor": 5
}
